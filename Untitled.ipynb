{
 "cells": [
  {
   "cell_type": "code",
   "execution_count": 4,
   "id": "579ffb6f",
   "metadata": {
    "scrolled": true
   },
   "outputs": [
    {
     "name": "stdout",
     "output_type": "stream",
     "text": [
      "bird\n",
      "bird\n",
      "deer\n",
      "ship\n",
      "truck\n",
      "bird\n"
     ]
    }
   ],
   "source": [
    "import cv2\n",
    "import matplotlib.pyplot as plt\n",
    "import numpy as np\n",
    "import os\n",
    "path_to_training_data = {}\n",
    "for label in os.listdir('cifar10\\\\train'):\n",
    "            path_to_training_data.update({label: os.path.join('cifar10\\\\train', label)})\n",
    "labels= os.listdir('cifar10\\\\test')\n",
    "training_data = {}\n",
    "for label in path_to_training_data:\n",
    "    images = os.listdir(path_to_training_data[label])\n",
    "    image_array = []\n",
    "    for image in images:\n",
    "        image_array.append(cv2.imread(os.path.join(path_to_training_data[label], image)))\n",
    "    training_data.update({label: image_array})\n",
    "\n",
    "path_to_testing_data = {}\n",
    "for label in os.listdir('cifar10\\\\test'):\n",
    "    path_to_testing_data.update({label: os.path.join('cifar10\\\\test', label)})\n",
    "testing_data = {}\n",
    "for label in path_to_testing_data:\n",
    "    images = os.listdir(path_to_testing_data[label])\n",
    "    image_array = []\n",
    "    for image in images:\n",
    "        image_array.append(cv2.imread(os.path.join(path_to_testing_data[label], image)))\n",
    "    testing_data.update({label: image_array})\n",
    "\n",
    "\n",
    "import random\n",
    "import math\n",
    "random_label = math.floor(random.random() * 10)\n",
    "random_image = math.floor(random.random() * 10)\n",
    "random_selected_label = labels[random_label]\n",
    "testing_image = testing_data[random_selected_label][random_image]\n",
    "# training_image = training_data[random_selected_label][random_image]\n",
    "\n",
    "\n",
    "# print(training_data[random_selected_label][random_image])\n",
    "# print(testing_data[random_selected_label][random_image])\n",
    "\n",
    "# print(random_selected_label)\n",
    "# plt.figure()\n",
    "# plt.imshow(training_image)\n",
    "# plt.figure()\n",
    "# plt.imshow(testing_image)\n",
    "\n",
    "# list = testing_image - training_image\n",
    "list3 = []\n",
    "# for i in list:\n",
    "#     for j in i:\n",
    "#        list3.append(np.sum(j))\n",
    "summation = 0\n",
    "dictionary = {}\n",
    "hello = []\n",
    "values = []\n",
    "sum = np.sum(list3)\n",
    "for i in training_data:\n",
    "    dictionary.update({i: []})\n",
    "    for j in training_data[i]:\n",
    "        a = j - testing_image\n",
    "        list4 = []\n",
    "\n",
    "        for k in a:\n",
    "            for l in k:\n",
    "                list4.append(np.sum(l))\n",
    "                summation = np.sum(list4)\n",
    "        hello.append(summation)\n",
    "        values.append(summation)\n",
    "        summation = 0\n",
    "    dictionary[i] += hello\n",
    "    del hello[:]\n",
    "for key in dictionary:\n",
    "    dictionary[key].sort()\n",
    "values.sort()\n",
    "\n",
    "for key in dictionary:\n",
    "    for i in range(5):\n",
    "        if values[i] in dictionary[key]:\n",
    "            print(key)\n",
    "print(random_selected_label)"
   ]
  },
  {
   "cell_type": "code",
   "execution_count": null,
   "id": "fed248ed",
   "metadata": {},
   "outputs": [],
   "source": []
  }
 ],
 "metadata": {
  "kernelspec": {
   "display_name": "Python 3 (ipykernel)",
   "language": "python",
   "name": "python3"
  },
  "language_info": {
   "codemirror_mode": {
    "name": "ipython",
    "version": 3
   },
   "file_extension": ".py",
   "mimetype": "text/x-python",
   "name": "python",
   "nbconvert_exporter": "python",
   "pygments_lexer": "ipython3",
   "version": "3.9.13"
  }
 },
 "nbformat": 4,
 "nbformat_minor": 5
}
